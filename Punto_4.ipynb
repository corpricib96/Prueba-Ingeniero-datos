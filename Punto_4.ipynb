{
 "cells": [
  {
   "cell_type": "markdown",
   "id": "1360f0cb",
   "metadata": {},
   "source": [
    "# Solucion Punto 4"
   ]
  },
  {
   "cell_type": "markdown",
   "id": "f575a070",
   "metadata": {},
   "source": [
    "### Importacion librerias"
   ]
  },
  {
   "cell_type": "code",
   "execution_count": null,
   "id": "4e25402b",
   "metadata": {},
   "outputs": [],
   "source": [
    "import os\n",
    "import re\n",
    "import base64"
   ]
  },
  {
   "cell_type": "markdown",
   "id": "41304909",
   "metadata": {},
   "source": [
    "### Solucion numeral A"
   ]
  },
  {
   "cell_type": "code",
   "execution_count": null,
   "id": "18cc90bd",
   "metadata": {},
   "outputs": [],
   "source": [
    "# funcion que busca, identifica y almacena archivos .html\n",
    "def seek_and_store_html(lista):\n",
    "    bd_html = [] #lista vacia\n",
    "    for i in lista:\n",
    "        if os.path.isfile(i) and i.endswith('html'): #valida si es un archivo con extension html\n",
    "            bd_html.append(i) #agrega el html a la lista\n",
    "        elif os.path.isdir(i): #si el elemento es una carpeta\n",
    "            for dirpath, dirnames, filenames in os.walk(i): #recorre la carpeta\n",
    "                for x in filenames:\n",
    "                    if os.path.isfile(i) and i.endswith('html'):\n",
    "                        bd_html.append(os.path.join(dirpath, file))\n",
    "    \n",
    "    return bd_html"
   ]
  },
  {
   "cell_type": "markdown",
   "id": "3fcfb7da",
   "metadata": {},
   "source": [
    "### Solucion numeral B"
   ]
  },
  {
   "cell_type": "code",
   "execution_count": null,
   "id": "ebfb8f07",
   "metadata": {},
   "outputs": [],
   "source": [
    "# Encuentra en las etiquetas <img> el archvio de la imagen\n",
    "patron = re.compile(r'<img[^>]+src=\"([^\">]+)\"')\n",
    "\n",
    "# Diccionario\n",
    "imagenes_base64 = {}\n",
    "\n",
    "for i in bd_html:\n",
    "    with open(i, \"r\", encoding=\"utf-8\") as img:\n",
    "        html = img.read()\n",
    "\n",
    "        # Buscar imágenes\n",
    "        bases_img = patron.findall(html)\n",
    "        lista_64 = []\n",
    "\n",
    "        for x in bases_img:\n",
    "            with open(x, \"rb\") as img:\n",
    "                cod_64 = base64.b64encode(img.read()).decode(\"utf-8\")\n",
    "                lista_64.append((x, cod_64))\n",
    "\n",
    "imagenes_base64[i] = base64_images\n"
   ]
  }
 ],
 "metadata": {
  "kernelspec": {
   "display_name": "Python 3",
   "language": "python",
   "name": "python3"
  },
  "language_info": {
   "codemirror_mode": {
    "name": "ipython",
    "version": 3
   },
   "file_extension": ".py",
   "mimetype": "text/x-python",
   "name": "python",
   "nbconvert_exporter": "python",
   "pygments_lexer": "ipython3",
   "version": "3.11.3"
  }
 },
 "nbformat": 4,
 "nbformat_minor": 5
}
